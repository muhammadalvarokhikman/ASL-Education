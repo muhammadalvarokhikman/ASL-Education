{
  "nbformat": 4,
  "nbformat_minor": 0,
  "metadata": {
    "colab": {
      "provenance": [],
      "gpuType": "V28",
      "include_colab_link": true
    },
    "kernelspec": {
      "name": "python3",
      "display_name": "Python 3"
    },
    "language_info": {
      "name": "python"
    },
    "accelerator": "TPU"
  },
  "cells": [
    {
      "cell_type": "markdown",
      "metadata": {
        "id": "view-in-github",
        "colab_type": "text"
      },
      "source": [
        "<a href=\"https://colab.research.google.com/github/muhammadalvarokhikman/ASL-Education/blob/main/American_Sign_Language_Project.ipynb\" target=\"_parent\"><img src=\"https://colab.research.google.com/assets/colab-badge.svg\" alt=\"Open In Colab\"/></a>"
      ]
    },
    {
      "cell_type": "code",
      "source": [
        "!pip install Flask==2.2.5\n",
        "!pip install tensorflow==2.9.1\n",
        "!pip install numpy==1.23.5\n",
        "!pip install pandas>=1.1.5\n",
        "!pip install matplotlib>=3.3.4\n",
        "!pip install scikit-learn>=0.24.2\n",
        "!pip install Pillow>=8.4.0\n",
        "!pip install h5py>=3.1.0"
      ],
      "metadata": {
        "id": "hZWjIJAGN4CO",
        "colab": {
          "base_uri": "https://localhost:8080/"
        },
        "outputId": "e501a8d8-ed0a-4653-9720-35705671a35a"
      },
      "execution_count": null,
      "outputs": [
        {
          "output_type": "stream",
          "name": "stdout",
          "text": [
            "Requirement already satisfied: Flask==2.2.5 in /usr/local/lib/python3.10/dist-packages (2.2.5)\n",
            "Requirement already satisfied: Werkzeug>=2.2.2 in /usr/local/lib/python3.10/dist-packages (from Flask==2.2.5) (3.1.3)\n",
            "Requirement already satisfied: Jinja2>=3.0 in /usr/local/lib/python3.10/dist-packages (from Flask==2.2.5) (3.1.5)\n",
            "Requirement already satisfied: itsdangerous>=2.0 in /usr/local/lib/python3.10/dist-packages (from Flask==2.2.5) (2.2.0)\n",
            "Requirement already satisfied: click>=8.0 in /usr/local/lib/python3.10/dist-packages (from Flask==2.2.5) (8.1.8)\n",
            "Requirement already satisfied: MarkupSafe>=2.0 in /usr/local/lib/python3.10/dist-packages (from Jinja2>=3.0->Flask==2.2.5) (3.0.2)\n",
            "Requirement already satisfied: tensorflow==2.9.1 in /usr/local/lib/python3.10/dist-packages (2.9.1)\n",
            "Requirement already satisfied: absl-py>=1.0.0 in /usr/local/lib/python3.10/dist-packages (from tensorflow==2.9.1) (1.4.0)\n",
            "Requirement already satisfied: astunparse>=1.6.0 in /usr/local/lib/python3.10/dist-packages (from tensorflow==2.9.1) (1.6.3)\n",
            "Requirement already satisfied: flatbuffers<2,>=1.12 in /usr/local/lib/python3.10/dist-packages (from tensorflow==2.9.1) (1.12)\n",
            "Requirement already satisfied: gast<=0.4.0,>=0.2.1 in /usr/local/lib/python3.10/dist-packages (from tensorflow==2.9.1) (0.4.0)\n",
            "Requirement already satisfied: google-pasta>=0.1.1 in /usr/local/lib/python3.10/dist-packages (from tensorflow==2.9.1) (0.2.0)\n",
            "Requirement already satisfied: grpcio<2.0,>=1.24.3 in /usr/local/lib/python3.10/dist-packages (from tensorflow==2.9.1) (1.69.0)\n",
            "Requirement already satisfied: h5py>=2.9.0 in /usr/local/lib/python3.10/dist-packages (from tensorflow==2.9.1) (3.12.1)\n",
            "Requirement already satisfied: keras<2.10.0,>=2.9.0rc0 in /usr/local/lib/python3.10/dist-packages (from tensorflow==2.9.1) (2.9.0)\n",
            "Requirement already satisfied: keras-preprocessing>=1.1.1 in /usr/local/lib/python3.10/dist-packages (from tensorflow==2.9.1) (1.1.2)\n",
            "Requirement already satisfied: libclang>=13.0.0 in /usr/local/lib/python3.10/dist-packages (from tensorflow==2.9.1) (18.1.1)\n",
            "Requirement already satisfied: numpy>=1.20 in /usr/local/lib/python3.10/dist-packages (from tensorflow==2.9.1) (1.23.5)\n",
            "Requirement already satisfied: opt-einsum>=2.3.2 in /usr/local/lib/python3.10/dist-packages (from tensorflow==2.9.1) (3.4.0)\n",
            "Requirement already satisfied: packaging in /usr/local/lib/python3.10/dist-packages (from tensorflow==2.9.1) (24.2)\n",
            "Requirement already satisfied: protobuf<3.20,>=3.9.2 in /usr/local/lib/python3.10/dist-packages (from tensorflow==2.9.1) (3.19.6)\n",
            "Requirement already satisfied: setuptools in /usr/local/lib/python3.10/dist-packages (from tensorflow==2.9.1) (75.1.0)\n",
            "Requirement already satisfied: six>=1.12.0 in /usr/local/lib/python3.10/dist-packages (from tensorflow==2.9.1) (1.17.0)\n",
            "Requirement already satisfied: tensorboard<2.10,>=2.9 in /usr/local/lib/python3.10/dist-packages (from tensorflow==2.9.1) (2.9.1)\n",
            "Requirement already satisfied: tensorflow-io-gcs-filesystem>=0.23.1 in /usr/local/lib/python3.10/dist-packages (from tensorflow==2.9.1) (0.37.1)\n",
            "Requirement already satisfied: tensorflow-estimator<2.10.0,>=2.9.0rc0 in /usr/local/lib/python3.10/dist-packages (from tensorflow==2.9.1) (2.9.0)\n",
            "Requirement already satisfied: termcolor>=1.1.0 in /usr/local/lib/python3.10/dist-packages (from tensorflow==2.9.1) (2.5.0)\n",
            "Requirement already satisfied: typing-extensions>=3.6.6 in /usr/local/lib/python3.10/dist-packages (from tensorflow==2.9.1) (4.12.2)\n",
            "Requirement already satisfied: wrapt>=1.11.0 in /usr/local/lib/python3.10/dist-packages (from tensorflow==2.9.1) (1.14.1)\n",
            "Requirement already satisfied: wheel<1.0,>=0.23.0 in /usr/local/lib/python3.10/dist-packages (from astunparse>=1.6.0->tensorflow==2.9.1) (0.45.1)\n",
            "Requirement already satisfied: google-auth<3,>=1.6.3 in /usr/local/lib/python3.10/dist-packages (from tensorboard<2.10,>=2.9->tensorflow==2.9.1) (2.27.0)\n",
            "Requirement already satisfied: google-auth-oauthlib<0.5,>=0.4.1 in /usr/local/lib/python3.10/dist-packages (from tensorboard<2.10,>=2.9->tensorflow==2.9.1) (0.4.6)\n",
            "Requirement already satisfied: markdown>=2.6.8 in /usr/local/lib/python3.10/dist-packages (from tensorboard<2.10,>=2.9->tensorflow==2.9.1) (3.7)\n",
            "Requirement already satisfied: requests<3,>=2.21.0 in /usr/local/lib/python3.10/dist-packages (from tensorboard<2.10,>=2.9->tensorflow==2.9.1) (2.32.3)\n",
            "Requirement already satisfied: tensorboard-data-server<0.7.0,>=0.6.0 in /usr/local/lib/python3.10/dist-packages (from tensorboard<2.10,>=2.9->tensorflow==2.9.1) (0.6.1)\n",
            "Requirement already satisfied: tensorboard-plugin-wit>=1.6.0 in /usr/local/lib/python3.10/dist-packages (from tensorboard<2.10,>=2.9->tensorflow==2.9.1) (1.8.1)\n",
            "Requirement already satisfied: werkzeug>=1.0.1 in /usr/local/lib/python3.10/dist-packages (from tensorboard<2.10,>=2.9->tensorflow==2.9.1) (3.1.3)\n",
            "Requirement already satisfied: cachetools<6.0,>=2.0.0 in /usr/local/lib/python3.10/dist-packages (from google-auth<3,>=1.6.3->tensorboard<2.10,>=2.9->tensorflow==2.9.1) (5.5.0)\n",
            "Requirement already satisfied: pyasn1-modules>=0.2.1 in /usr/local/lib/python3.10/dist-packages (from google-auth<3,>=1.6.3->tensorboard<2.10,>=2.9->tensorflow==2.9.1) (0.4.1)\n",
            "Requirement already satisfied: rsa<5,>=3.1.4 in /usr/local/lib/python3.10/dist-packages (from google-auth<3,>=1.6.3->tensorboard<2.10,>=2.9->tensorflow==2.9.1) (4.9)\n",
            "Requirement already satisfied: requests-oauthlib>=0.7.0 in /usr/local/lib/python3.10/dist-packages (from google-auth-oauthlib<0.5,>=0.4.1->tensorboard<2.10,>=2.9->tensorflow==2.9.1) (2.0.0)\n",
            "Requirement already satisfied: charset-normalizer<4,>=2 in /usr/local/lib/python3.10/dist-packages (from requests<3,>=2.21.0->tensorboard<2.10,>=2.9->tensorflow==2.9.1) (3.4.1)\n",
            "Requirement already satisfied: idna<4,>=2.5 in /usr/local/lib/python3.10/dist-packages (from requests<3,>=2.21.0->tensorboard<2.10,>=2.9->tensorflow==2.9.1) (3.10)\n",
            "Requirement already satisfied: urllib3<3,>=1.21.1 in /usr/local/lib/python3.10/dist-packages (from requests<3,>=2.21.0->tensorboard<2.10,>=2.9->tensorflow==2.9.1) (2.3.0)\n",
            "Requirement already satisfied: certifi>=2017.4.17 in /usr/local/lib/python3.10/dist-packages (from requests<3,>=2.21.0->tensorboard<2.10,>=2.9->tensorflow==2.9.1) (2024.12.14)\n",
            "Requirement already satisfied: MarkupSafe>=2.1.1 in /usr/local/lib/python3.10/dist-packages (from werkzeug>=1.0.1->tensorboard<2.10,>=2.9->tensorflow==2.9.1) (3.0.2)\n",
            "Requirement already satisfied: pyasn1<0.7.0,>=0.4.6 in /usr/local/lib/python3.10/dist-packages (from pyasn1-modules>=0.2.1->google-auth<3,>=1.6.3->tensorboard<2.10,>=2.9->tensorflow==2.9.1) (0.6.1)\n",
            "Requirement already satisfied: oauthlib>=3.0.0 in /usr/local/lib/python3.10/dist-packages (from requests-oauthlib>=0.7.0->google-auth-oauthlib<0.5,>=0.4.1->tensorboard<2.10,>=2.9->tensorflow==2.9.1) (3.2.2)\n",
            "Requirement already satisfied: numpy==1.23.5 in /usr/local/lib/python3.10/dist-packages (1.23.5)\n"
          ]
        }
      ]
    },
    {
      "cell_type": "code",
      "source": [
        "import os\n",
        "import tensorflow as tf\n",
        "from tensorflow.keras.models import Sequential\n",
        "from tensorflow.keras.layers import Dense, GlobalAveragePooling2D, Dropout\n",
        "from tensorflow.keras.applications import MobileNetV2\n",
        "from tensorflow.keras.optimizers import Adam\n",
        "from tensorflow.keras.callbacks import ModelCheckpoint"
      ],
      "metadata": {
        "id": "-jCXUbcsyEdX"
      },
      "execution_count": null,
      "outputs": []
    },
    {
      "cell_type": "code",
      "source": [
        "# Parameter\n",
        "IMG_SIZE = 224\n",
        "BATCH_SIZE = 32\n",
        "EPOCHS = 10"
      ],
      "metadata": {
        "id": "u0HTv2a8yGUx"
      },
      "execution_count": null,
      "outputs": []
    },
    {
      "cell_type": "code",
      "source": [
        "from google.colab import drive\n",
        "drive.mount('/content/drive')"
      ],
      "metadata": {
        "colab": {
          "base_uri": "https://localhost:8080/"
        },
        "id": "dOAH85tQysHQ",
        "outputId": "d81dca62-25b4-4f83-a789-72b18bb25905"
      },
      "execution_count": null,
      "outputs": [
        {
          "output_type": "stream",
          "name": "stdout",
          "text": [
            "Mounted at /content/drive\n"
          ]
        }
      ]
    },
    {
      "cell_type": "code",
      "source": [
        "# Fungsi untuk memproses gambar\n",
        "def process_image(file_path, label):\n",
        "    # Load gambar\n",
        "    img = tf.io.read_file(file_path)\n",
        "    img = tf.image.decode_jpeg(img, channels=3)\n",
        "    img = tf.image.resize(img, [IMG_SIZE, IMG_SIZE])\n",
        "    img = img / 255.0  # Normalisasi ke [0, 1]\n",
        "    return img, label\n",
        "\n",
        "# Fungsi untuk membuat dataset training\n",
        "def create_train_dataset(directory):\n",
        "    classes = sorted(os.listdir(directory))  # Subfolder sebagai kelas\n",
        "    class_indices = {cls: i for i, cls in enumerate(classes)}  # Mapping kelas ke indeks\n",
        "\n",
        "    file_paths = []\n",
        "    labels = []\n",
        "\n",
        "    # Loop melalui folder kelas\n",
        "    for cls in classes:\n",
        "        cls_dir = os.path.join(directory, cls)\n",
        "        for file_name in os.listdir(cls_dir):\n",
        "            file_paths.append(os.path.join(cls_dir, file_name))\n",
        "            labels.append(class_indices[cls])\n",
        "\n",
        "    # Buat dataset TensorFlow\n",
        "    dataset = tf.data.Dataset.from_tensor_slices((file_paths, labels))\n",
        "    dataset = dataset.map(process_image, num_parallel_calls=tf.data.AUTOTUNE)\n",
        "    dataset = dataset.shuffle(1000).batch(BATCH_SIZE).prefetch(tf.data.AUTOTUNE)\n",
        "    return dataset, classes\n",
        "\n",
        "# Fungsi untuk membuat dataset test\n",
        "def create_test_dataset(directory, classes):\n",
        "    file_paths = []\n",
        "    labels = []\n",
        "\n",
        "    # Mapping kelas ke indeks berdasarkan classes dari train dataset\n",
        "    class_indices = {cls: i for i, cls in enumerate(classes)}\n",
        "\n",
        "    # Loop melalui semua file di dalam folder test\n",
        "    for file_name in os.listdir(directory):\n",
        "        if file_name.endswith(\".jpg\"):  # Pastikan hanya file gambar\n",
        "            class_name = file_name.split(\"_test\")[0]  # Ambil huruf dari nama file\n",
        "            file_paths.append(os.path.join(directory, file_name))\n",
        "            labels.append(class_indices[class_name])\n",
        "\n",
        "    # Buat dataset TensorFlow\n",
        "    dataset = tf.data.Dataset.from_tensor_slices((file_paths, labels))\n",
        "    dataset = dataset.map(process_image, num_parallel_calls=tf.data.AUTOTUNE)\n",
        "    dataset = dataset.batch(BATCH_SIZE).prefetch(tf.data.AUTOTUNE)\n",
        "\n",
        "    return dataset"
      ],
      "metadata": {
        "id": "EN4H6E0pyKHB"
      },
      "execution_count": null,
      "outputs": []
    },
    {
      "cell_type": "code",
      "source": [
        "# Path dataset\n",
        "train_dir = \"/content/drive/MyDrive/American Sign Languages/asl_alphabet_train\"\n",
        "test_dir = \"/content/drive/MyDrive/American Sign Languages/asl_alphabet_test\"\n",
        "\n",
        "# Buat dataset\n",
        "train_dataset, classes = create_train_dataset(train_dir)\n",
        "test_dataset = create_test_dataset(test_dir, classes)"
      ],
      "metadata": {
        "id": "9eVqz4Rdw-_x"
      },
      "execution_count": null,
      "outputs": []
    },
    {
      "cell_type": "code",
      "source": [
        "# Load MobileNetV2\n",
        "base_model = MobileNetV2(input_shape=(IMG_SIZE, IMG_SIZE, 3), include_top=False, weights=\"imagenet\")\n",
        "base_model.trainable = False"
      ],
      "metadata": {
        "id": "pkUW9GJVyP_7",
        "colab": {
          "base_uri": "https://localhost:8080/"
        },
        "outputId": "1dea615c-88c9-4dbd-eae5-1245af9eaac8"
      },
      "execution_count": null,
      "outputs": [
        {
          "output_type": "stream",
          "name": "stdout",
          "text": [
            "Downloading data from https://storage.googleapis.com/tensorflow/keras-applications/mobilenet_v2/mobilenet_v2_weights_tf_dim_ordering_tf_kernels_1.0_224_no_top.h5\n",
            "9406464/9406464 [==============================] - 0s 0us/step\n"
          ]
        }
      ]
    },
    {
      "cell_type": "code",
      "source": [
        "# Tambahkan lapisan custom untuk klasifikasi\n",
        "model = Sequential([\n",
        "    base_model,\n",
        "    GlobalAveragePooling2D(),\n",
        "    Dropout(0.2),\n",
        "    Dense(len(classes), activation=\"softmax\")  # Output sesuai jumlah kelas\n",
        "])"
      ],
      "metadata": {
        "id": "V3weDSP3yTtZ"
      },
      "execution_count": null,
      "outputs": []
    },
    {
      "cell_type": "code",
      "source": [
        "# Compile model\n",
        "model.compile(optimizer=Adam(learning_rate=0.001), loss=\"sparse_categorical_crossentropy\", metrics=[\"accuracy\"])\n",
        "\n",
        "# Checkpoint untuk menyimpan model terbaik\n",
        "checkpoint = ModelCheckpoint(\"asl_model.keras\", monitor=\"val_accuracy\", save_best_only=True, mode=\"max\")\n",
        "\n",
        "# Latih model\n",
        "history = model.fit(\n",
        "    train_dataset,\n",
        "    validation_data=test_dataset,\n",
        "    epochs=EPOCHS,\n",
        "    callbacks=[checkpoint]\n",
        ")"
      ],
      "metadata": {
        "colab": {
          "base_uri": "https://localhost:8080/"
        },
        "id": "hDpLFACgyW-U",
        "outputId": "452c5cf6-3d3b-4f1c-fd11-66654e03fada"
      },
      "execution_count": null,
      "outputs": [
        {
          "output_type": "stream",
          "name": "stdout",
          "text": [
            "Epoch 1/10\n",
            "91/91 [==============================] - 170s 2s/step - loss: 2.4714 - accuracy: 0.4321 - val_loss: 1.5554 - val_accuracy: 0.4643\n",
            "Epoch 2/10\n",
            "91/91 [==============================] - 158s 2s/step - loss: 0.5811 - accuracy: 0.8821 - val_loss: 0.8127 - val_accuracy: 0.8214\n",
            "Epoch 3/10\n",
            "91/91 [==============================] - 156s 2s/step - loss: 0.2563 - accuracy: 0.9614 - val_loss: 0.5030 - val_accuracy: 0.8929\n",
            "Epoch 4/10\n",
            "91/91 [==============================] - 159s 2s/step - loss: 0.1525 - accuracy: 0.9834 - val_loss: 0.3232 - val_accuracy: 0.9643\n",
            "Epoch 5/10\n",
            "91/91 [==============================] - 160s 2s/step - loss: 0.1042 - accuracy: 0.9917 - val_loss: 0.2571 - val_accuracy: 1.0000\n",
            "Epoch 6/10\n",
            "91/91 [==============================] - 154s 2s/step - loss: 0.0782 - accuracy: 0.9931 - val_loss: 0.1815 - val_accuracy: 1.0000\n",
            "Epoch 7/10\n",
            "91/91 [==============================] - 154s 2s/step - loss: 0.0553 - accuracy: 0.9976 - val_loss: 0.1437 - val_accuracy: 1.0000\n",
            "Epoch 8/10\n",
            "91/91 [==============================] - 158s 2s/step - loss: 0.0492 - accuracy: 0.9972 - val_loss: 0.0993 - val_accuracy: 1.0000\n",
            "Epoch 9/10\n",
            "91/91 [==============================] - 154s 2s/step - loss: 0.0405 - accuracy: 0.9969 - val_loss: 0.0743 - val_accuracy: 1.0000\n",
            "Epoch 10/10\n",
            "91/91 [==============================] - 159s 2s/step - loss: 0.0328 - accuracy: 0.9993 - val_loss: 0.0609 - val_accuracy: 1.0000\n"
          ]
        }
      ]
    },
    {
      "cell_type": "code",
      "source": [
        "# Simpan model akhir\n",
        "model.save(\"final_asl_model.keras\")\n",
        "\n",
        "# Simpan model akhir dalam format .h5\n",
        "model.save(\"final_asl_model.h5\")"
      ],
      "metadata": {
        "id": "6p-LlqzDyaF0"
      },
      "execution_count": null,
      "outputs": []
    },
    {
      "cell_type": "code",
      "source": [
        "# Muat model .h5\n",
        "model_h5 = tf.keras.models.load_model(\"final_asl_model.h5\")\n",
        "\n",
        "# Muat model .keras\n",
        "model_keras = tf.keras.models.load_model(\"final_asl_model.keras\")"
      ],
      "metadata": {
        "id": "vlTeFGZCN8Un"
      },
      "execution_count": null,
      "outputs": []
    }
  ]
}